{
 "cells": [
  {
   "cell_type": "markdown",
   "id": "7e01f78a",
   "metadata": {},
   "source": [
    "# Exercise 2\n",
    "\n",
    "For our in class exercise you programmed a little\n",
    "function to compute the allele frequency in the next \n",
    "generation, $p'$, due to natural selection.\n",
    "I'd like you to use this function to explore the \n",
    "_sojourn time_ of a selected mutation in the population.\n",
    "The sojourn time is the amount of time it takes for the allele\n",
    "to go from some initial frequency, $p_0$, to frequency 1 (fixation) in a population. \n",
    "\n",
    "For this exercise, make a plot of sojourn time as a function of\n",
    "the selection coefficient $s$ for perhaps 100 values of $s$\n",
    "from between zero and one, with a starting frequency $p_0 = 0.001$."
   ]
  }
 ],
 "metadata": {
  "jupytext": {
   "formats": "md:myst",
   "text_representation": {
    "extension": ".md",
    "format_name": "myst",
    "format_version": 0.13,
    "jupytext_version": "1.11.5"
   }
  },
  "kernelspec": {
   "display_name": "Python 3 (ipykernel)",
   "language": "python",
   "name": "python3"
  },
  "language_info": {
   "codemirror_mode": {
    "name": "ipython",
    "version": 3
   },
   "file_extension": ".py",
   "mimetype": "text/x-python",
   "name": "python",
   "nbconvert_exporter": "python",
   "pygments_lexer": "ipython3",
   "version": "3.8.0"
  },
  "source_map": [
   13
  ]
 },
 "nbformat": 4,
 "nbformat_minor": 5
}