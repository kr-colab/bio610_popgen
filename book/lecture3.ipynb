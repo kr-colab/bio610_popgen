{
 "cells": [
  {
   "cell_type": "markdown",
   "metadata": {},
   "source": [
    "# Mutation and Migration\n",
    "\n",
    "## Mutation and Evolution \n",
    "\n",
    "Previously we learned about how selection can change the frequencies of\n",
    "alleles and genotypes in populations. Selection typically eliminates\n",
    "variation from within populations. (The general exception to this claim\n",
    "is with the class selection models we have called \"balancing\\\" selection\n",
    "where alleles are maintained in the population by overdominance,\n",
    "habitat-specific selection, or frequency dependent selection). If\n",
    "selection removes variation, soon there will be no more variation for\n",
    "selection to act on, and evolution will grind to a halt, right? This\n",
    "might be true if it were not for the reality of mutation which will\n",
    "restore genetic variation eliminated by selection. Thus, mutations are\n",
    "the fundamental raw material of evolution."
   ]
  },
  {
   "cell_type": "markdown",
   "metadata": {},
   "source": [
    "The basic model of mutation that we will study is one way mutation. This\n",
    "is when one allele through mutation can turn in to another such that\n",
    "\n",
    "$$\\begin{aligned}\n",
    "A_1 \\stackrel{u}\\longrightarrow A_2\n",
    "\\end{aligned}$$\n",
    "\n",
    "$u$ here represents the mutation rate, the probability that a mutation\n",
    "from $A_1$ to $A_2$ occurs during a meiosis.\n",
    "\n",
    "It should be obvious that mutation will change allele frequencies. This\n",
    "is true because there is a constant flux from $A_1$ to $A_2$ purely as a\n",
    "result of this mutation process. We can study the change in allele\n",
    "frequency due to mutation in a very similar way to how we studied the\n",
    "change in allele frequency due to selection. Consider a population with\n",
    "frequency of the $A_1$ allele $p$. In the next generation, after a round\n",
    "of mutation, each $A_1$ allele must have been $A_1$ in the current\n",
    "generation and it must not have mutated. That is \n",
    "\n",
    "$$\\begin{aligned}\n",
    "    p' = p (1-u).\n",
    "\\end{aligned}$$ \n",
    "\n",
    "Now lets turn our attention to the\n",
    "change in allele frequency in one generation due to mutation as we did\n",
    "previously for selection \n",
    "\n",
    "$$\\begin{aligned}\n",
    "    \\Delta_up & = & p' - p \\\\\n",
    "     & = & p(1-u) -p \\\\\n",
    "     & = & -up \\\\\n",
    "\\end{aligned}$$\n",
    "\n",
    " notice that our notation-- $\\Delta_up$\n",
    "-- emphasizes the source of the change in allele frequency is mutation. \n",
    "Let's plot this as a function of $p$ "
   ]
  },
  {
   "cell_type": "code",
   "execution_count": 2,
   "metadata": {},
   "outputs": [
    {
     "data": {
      "text/plain": [
       "[<matplotlib.lines.Line2D at 0x7fce77c071c0>]"
      ]
     },
     "execution_count": 2,
     "metadata": {},
     "output_type": "execute_result"
    },
    {
     "data": {
      "image/png": "[encoded data removed]",
      "text/plain": [
       "<Figure size 432x288 with 1 Axes>"
      ]
     },
     "metadata": {
      "needs_background": "light"
     },
     "output_type": "display_data"
    }
   ],
   "source": [
    "import numpy as np\n",
    "import matplotlib.pyplot as plt\n",
    "\n",
    "def delta_p_u(u, p):\n",
    "    return -u * p\n",
    "\n",
    "x = np.linspace(0, 1, 100)\n",
    "frequencies = delta_p_u(x, 0.001)\n",
    "plt.plot(x, frequencies)"
   ]
  },
  {
   "cell_type": "markdown",
   "metadata": {},
   "source": [
    "right! _decreasing_ for all $p$ except the case where $p = 0$!"
   ]
  },
  {
   "cell_type": "markdown",
   "metadata": {},
   "source": [
    "--------------\n",
    "\n",
    "**Exercise** write a function to explore the dynamics of allele frequency dynamics of this model over time. It should take an initial frequency and a mutation rate as it's input, and output \n",
    "the allele frequency in subsequent generations (perhaps the number of generations could be an input)\n",
    "\n",
    "---------------------"
   ]
  },
  {
   "cell_type": "markdown",
   "metadata": {},
   "source": [
    "This sort of unidirectional mutation acts to consistently decrease the\n",
    "frequency of the $A_1$ allele from generation to generation. If we\n",
    "instead were to study two way mutation, the mutational flux would depend\n",
    "on the proportional rates to and from $A_1$. So mutation, although it is\n",
    "a random process with respect to target, leads to deterministic effects\n",
    "on allele frequencies. Neat huh?\n",
    "\n",
    "Mutation rates per generation are very very small. You know this\n",
    "intuitively- think about cloning plants from cuttings. In *Drosophila*,\n",
    "which is one of the best studied animals from the perspective of rates\n",
    "of spontaneous mutation, the mutation rate per generation per nucleotide\n",
    "is on the order of $10^{-9}$. This means that mutation changes the\n",
    "frequency of alleles at a very slow rate. If we assume that there is\n",
    "sufficiently strong selection against the $A_2$ allele (i.e.\n",
    "$w_{11} >> w_{22}$), then we can further approximate our change in\n",
    "allele frequency due to mutation \n",
    "\n",
    "$$\\begin{aligned}\n",
    "\\Delta_up  & = & -up \\\\\n",
    "  & = & -u + qu \\\\\n",
    " & \\approx & -u, \n",
    "\\end{aligned}$$ \n",
    "\n",
    "because $q \\approx 0$. So in the case\n",
    "of a deleterious $A_2$ allele, we can see that the change in allele\n",
    "frequency due to mutation is independent of allele frequencies. This is\n",
    "our first hint that mutation and selection might combine in interesting\n",
    "and important ways.\n"
   ]
  },
  {
   "cell_type": "markdown",
   "metadata": {},
   "source": [
    "# Mutation-Selection Balance \n",
    "\n",
    "We can imagine mutation and selection as opposing forces which might\n",
    "come to some equilibrium in terms of the number or frequency of\n",
    "deleterious alleles within a population. To make this concrete think\n",
    "about the human genetic disease cystic fibrosis (CF). CF is a very\n",
    "serious genetic disorder in which a transmembrane protein in lung\n",
    "epithelium cells called CFTR is non-functional. Hundreds, if not\n",
    "thousands of separate mutations in CFTR lead to CF, thus we could\n",
    "imagine that there is a certain, appreciable rate of mutation to CF. If\n",
    "each of these mutations is deleterious (i.e. they cause disease) then\n",
    "over generations they should be selected out of the population. Thus\n",
    "mutation will inject CF mutations into the population, but selection\n",
    "will remove them- can we study this as an equilibrium process?\n",
    "\n",
    "Our approach will be to study each of our evolutionary forces in\n",
    "isolation, and then combine them to figure out how they interact. Let's\n",
    "start by considering the change in allele frequency due to selection\n",
    "that we studied in lecture 7, but this time we will approximate it under\n",
    "the assumption that $q \\approx 0$ \n",
    "\n",
    "$$\\begin{aligned}\n",
    "\\Delta_sp  & = &\\frac{pqs[ph + q(1-h)]}{\\bar{w}} \\\\\n",
    "& \\approx & qhs \n",
    "\\end{aligned}$$ \n",
    "\n",
    "This approximation goes down the road\n",
    "because when $q \\approx 0$, $p \\approx 1$, $\\bar{w} \\approx 1$, and we\n",
    "can ignore all terms of order $q^2$.\n",
    "\n",
    "Now lets combine the forces of selection and mutation on the change in\n",
    "frequency of $A_1$ using the approximations we have just derived\n",
    "(equations 3 and 5). At equilibrium that change in allele frequency due\n",
    "to the combined actions of mutation and selection must equal zero. That\n",
    "is \n",
    "\n",
    "$$\\begin{aligned}\n",
    "    0 & = & \\Delta_up + \\Delta_sp \\\\\n",
    "    & \\approx & -u + qhs\n",
    "\\end{aligned}$$ \n",
    "\n",
    "so the equilibrium frequency of\n",
    "the $A_2$ is \n",
    "\n",
    "$$\\begin{aligned}\n",
    "    \\hat{q} \\approx \\frac{u}{hs}\n",
    "\\end{aligned}$$\n",
    "\n",
    "Thus we see that\n",
    "deleterious (e.g. disease) allele frequencies are determined by both the\n",
    "mutation rate to those alleles and their selective effects in\n",
    "heterozygotes. As we saw earlier, new mutations overwhelmingly are found\n",
    "in heterozygous states, so it's perhaps not surprising that $h$ should\n",
    "dominate the fate of deleterious alleles."
   ]
  },
  {
   "cell_type": "code",
   "execution_count": 1,
   "metadata": {},
   "outputs": [],
   "source": [
    "%load_ext slim_magic\n",
    "\n",
    "import pandas as pd\n",
    "import numpy as np\n",
    "from matplotlib import pyplot as plt\n",
    "from IPython.display import display, SVG"
   ]
  },
  {
   "cell_type": "code",
   "execution_count": 44,
   "metadata": {},
   "outputs": [],
   "source": [
    "%%slim_stats_reps_cstack 100 --out neutral\n",
    "initialize()\n",
    "{\n",
    "    // set the overall mutation rate\n",
    "    // no mutation in this simulation\n",
    "    initializeMutationRate(0.01);\n",
    "    // m1 mutation type: neutral\n",
    "    initializeMutationType(\"m1\", 0.5, \"f\", 0.0);\n",
    "    // single locus simulation\n",
    "    // g1 genomic element type: uses m1 probability 1\n",
    "    initializeGenomicElementType(\"g1\", c(m1), c(1.0));\n",
    "    // uniform chromosome of length 1 site\n",
    "    initializeGenomicElement(g1, 0, 0);\n",
    "    // uniform recombination along the chromosome\n",
    "    initializeRecombinationRate(0);\n",
    "    suppressWarnings(T);\n",
    "}\n",
    "\n",
    "// create a population of 100 individuals\n",
    "1 {\n",
    "    sim.addSubpop(\"p1\", 100);\n",
    "    // sample 100 haploid genomes \n",
    "    target = sample(p1.genomes, 100);\n",
    "    // add a mutation to those genomes\n",
    "    // H_0 = 0.5 here\n",
    "    target.addNewMutation(m1,0, 0);\n",
    "    cat(\"generation,p\\\\n\");\n",
    "}\n",
    "1:1000 late(){\n",
    "    // allele freq of A_1 allele in current gen\n",
    "    freqs = sim.mutationFrequencies(p1);\n",
    "    // each gen print out the gen and the allele freqs \n",
    "    catn(sim.generation + \",\" + freqs[0]);\n",
    "    }\n",
    "// run to generation 0\n",
    "300 late() {\n",
    "    sim.simulationFinished();\n",
    "    }\n"
   ]
  },
  {
   "cell_type": "code",
   "execution_count": 47,
   "metadata": {},
   "outputs": [],
   "source": [
    "%%slim_stats_reps_cstack 100 --out selection\n",
    "// set up a single locus simulation of selection\n",
    "initialize()\n",
    "{\n",
    "    // set the overall mutation rate\n",
    "    // no mutation in this simulation\n",
    "    initializeMutationRate(0.01);\n",
    "    // m1 mutation type: neutral\n",
    "    initializeMutationType(\"m1\", 0.5, \"f\", -0.1);\n",
    "    // single locus simulation\n",
    "    // g1 genomic element type: uses m1 probability 1\n",
    "    initializeGenomicElementType(\"g1\", c(m1), c(1.0));\n",
    "    // uniform chromosome of length 1 site\n",
    "    initializeGenomicElement(g1, 0, 0);\n",
    "    // uniform recombination along the chromosome\n",
    "    initializeRecombinationRate(0);\n",
    "    suppressWarnings(T);\n",
    "}\n",
    "\n",
    "// create a population of 100 individuals\n",
    "1 {\n",
    "    sim.addSubpop(\"p1\", 100);\n",
    "    cat(\"generation,p\\\\n\");\n",
    "}\n",
    "1:1000 late(){\n",
    "    // allele freq of A_1 allele in current gen\n",
    "    freqs = sim.mutationFrequencies(p1);\n",
    "    // each gen print out the gen and the allele freqs \n",
    "    if( length(freqs) > 0)\n",
    "        catn(sim.generation + \",\" + freqs[0]);\n",
    "    }\n",
    "// run to generation 0\n",
    "300 late() {\n",
    "    sim.simulationFinished();\n",
    "    }"
   ]
  },
  {
   "cell_type": "code",
   "execution_count": 50,
   "metadata": {},
   "outputs": [
    {
     "data": {
      "image/png": "[encoded data removed]",
      "text/plain": [
       "<Figure size 432x288 with 1 Axes>"
      ]
     },
     "metadata": {
      "needs_background": "light"
     },
     "output_type": "display_data"
    }
   ],
   "source": [
    "plt.hist(neutral[-1:].values.flatten(), density=True,alpha=0.5, label=\"neutral\")\n",
    "plt.hist(selection[-1:].values.flatten(), density=True,alpha=0.5, label=\"selection\")\n",
    "plt.legend()\n",
    "plt.show()"
   ]
  },
  {
   "cell_type": "code",
   "execution_count": null,
   "metadata": {},
   "outputs": [],
   "source": []
  }
 ],
 "metadata": {
  "interpreter": {
   "hash": "2d53352db4b1a44280d6a52a48705218ed119cb906e5df159bb5f7008f27ae29"
  },
  "kernelspec": {
   "display_name": "Python 3.8.12 ('base')",
   "language": "python",
   "name": "python3"
  },
  "language_info": {
   "codemirror_mode": {
    "name": "ipython",
    "version": 3
   },
   "file_extension": ".py",
   "mimetype": "text/x-python",
   "name": "python",
   "nbconvert_exporter": "python",
   "pygments_lexer": "ipython3",
   "version": "3.8.0"
  },
  "orig_nbformat": 4
 },
 "nbformat": 4,
 "nbformat_minor": 2
}
